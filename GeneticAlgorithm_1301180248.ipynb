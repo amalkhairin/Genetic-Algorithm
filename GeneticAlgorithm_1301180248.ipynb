{
  "nbformat": 4,
  "nbformat_minor": 0,
  "metadata": {
    "colab": {
      "name": "GeneticAlgorithm_1301180248.ipynb",
      "provenance": [],
      "collapsed_sections": [],
      "include_colab_link": true
    },
    "kernelspec": {
      "name": "python3",
      "display_name": "Python 3"
    }
  },
  "cells": [
    {
      "cell_type": "markdown",
      "metadata": {
        "id": "view-in-github",
        "colab_type": "text"
      },
      "source": [
        "<a href=\"https://colab.research.google.com/github/amalkhairin/Genetic-Algorithm/blob/main/GeneticAlgorithm_1301180248.ipynb\" target=\"_parent\"><img src=\"https://colab.research.google.com/assets/colab-badge.svg\" alt=\"Open In Colab\"/></a>"
      ]
    },
    {
      "cell_type": "markdown",
      "metadata": {
        "id": "NzQtgY-tl_V5"
      },
      "source": [
        "init population"
      ]
    },
    {
      "cell_type": "code",
      "metadata": {
        "id": "gTvMrfTXmCYx"
      },
      "source": [
        "import numpy as np\n",
        "\n",
        "def init_pop(pop_size, chrom_size):\n",
        "    #generate bilangan random int dari 0 - 10, dengan size sebesar pop_size * chrom_size\n",
        "    populasi = np.random.randint(0,10, (pop_size, chrom_size))\n",
        "    return populasi"
      ],
      "execution_count": null,
      "outputs": []
    },
    {
      "cell_type": "markdown",
      "metadata": {
        "id": "s54AolJGnEci"
      },
      "source": [
        "decode chromosom"
      ]
    },
    {
      "cell_type": "code",
      "metadata": {
        "id": "pTgzry4BnIy3"
      },
      "source": [
        "def decode_chrom(populasi,min,max):\n",
        "    pop_size, chrom_size = populasi.shape\n",
        "    jumlah_x = len(min)\n",
        "    alele = chrom_size // jumlah_x\n",
        "    temp_populasi = populasi.copy().reshape((pop_size, jumlah_x, alele))\n",
        "\n",
        "    decimal = np.array( [10**-(i+1) for i in range(alele)] )\n",
        "    scale = (max-min) / (9*np.sum(decimal))\n",
        "\n",
        "    decoded_populasi = min + (scale * temp_populasi.dot(decimal))\n",
        "\n",
        "    return decoded_populasi"
      ],
      "execution_count": null,
      "outputs": []
    },
    {
      "cell_type": "markdown",
      "metadata": {
        "id": "R_1LOa7YopF7"
      },
      "source": [
        "fitness evaluation"
      ]
    },
    {
      "cell_type": "code",
      "metadata": {
        "id": "ayDfV9smosWg"
      },
      "source": [
        "def fx(x):\n",
        "    #x berupa array\n",
        "    x1, x2 = x\n",
        "    a = np.cos(x1) * np.sin(x2)\n",
        "    b = x1 // (x2**2 + 1)\n",
        "    c = a - b\n",
        "\n",
        "    return c\n"
      ],
      "execution_count": null,
      "outputs": []
    },
    {
      "cell_type": "code",
      "metadata": {
        "id": "zhwdpaMvpdsU"
      },
      "source": [
        "def fitness_eva(decoded_populasi, a=0.1):\n",
        "    #minimasi fungsi dengan 1/h+a\n",
        "    fitness = 1/(fx(decoded_populasi.T)+a)\n",
        "\n",
        "    return fitness\n"
      ],
      "execution_count": null,
      "outputs": []
    },
    {
      "cell_type": "markdown",
      "metadata": {
        "id": "LXqip8PjqtFE"
      },
      "source": [
        "Roulette wheel (parent selection)"
      ]
    },
    {
      "cell_type": "code",
      "metadata": {
        "id": "z1gkzBPzqxTI"
      },
      "source": [
        "def roulette_wheel(fitness):\n",
        "    parent_id = []\n",
        "    probability = fitness.copy()\n",
        "    probability = probability / np.sum(probability)\n",
        "\n",
        "    while len(parent_id) <2:\n",
        "        r = np.random.rand()\n",
        "        t, i = 0, 0\n",
        "        while t< r:\n",
        "            t += probability[i]\n",
        "            i += 1\n",
        "        parent_id.append(i-1)\n",
        "    return parent_id"
      ],
      "execution_count": null,
      "outputs": []
    },
    {
      "cell_type": "markdown",
      "metadata": {
        "id": "5edUxSFGsXwe"
      },
      "source": [
        "crossover"
      ]
    },
    {
      "cell_type": "code",
      "metadata": {
        "id": "5tPIVtX5scB1"
      },
      "source": [
        "def crossover(parent_chromosom, Pc = 0.8):\n",
        "    _, chrom_size = parent_chromosom.shape\n",
        "\n",
        "    child_chromosom = parent_chromosom.copy()\n",
        "\n",
        "    r = np.random.rand()\n",
        "    if r <= Pc:\n",
        "        #titik potong\n",
        "        p = np.random.randint(0, chrom_size)                 \n",
        "        #pindah silang\n",
        "        child_chromosom[::-1, p:] = parent_chromosom[::, p:]  \n",
        "    \n",
        "    return child_chromosom"
      ],
      "execution_count": null,
      "outputs": []
    },
    {
      "cell_type": "markdown",
      "metadata": {
        "id": "qs9T7Fzztoaz"
      },
      "source": [
        "mutation"
      ]
    },
    {
      "cell_type": "code",
      "metadata": {
        "id": "9iUiWTeutqNo"
      },
      "source": [
        "def mutation(chromosom, Pm = 0.1):\n",
        "    r= np.random.rand( *chromosom.shape)\n",
        "\n",
        "    mutation = np.random.randint(0, 10, (chromosom.shape))\n",
        "    mutated_chromosom = np.where(r >= Pm, chromosom, mutation)\n",
        "\n",
        "    return mutated_chromosom"
      ],
      "execution_count": null,
      "outputs": []
    },
    {
      "cell_type": "markdown",
      "metadata": {
        "id": "lqZHZqIVuVik"
      },
      "source": [
        "elitism (survivor selection)"
      ]
    },
    {
      "cell_type": "code",
      "metadata": {
        "id": "KBb7-TkwuYgG"
      },
      "source": [
        "def elitisme(populasi, fitness):\n",
        "    best_id = np.argmax(fitness)\n",
        "    best_chromosom = populasi[best_id].copy()\n",
        "    \n",
        "    #memasukkan kromosom dengan fitness terbaik ke populasi\n",
        "    new_populasi = np.vstack([best_chromosom, best_chromosom])\n",
        "\n",
        "    return new_populasi"
      ],
      "execution_count": null,
      "outputs": []
    },
    {
      "cell_type": "markdown",
      "metadata": {
        "id": "NbZx7mtUufY-"
      },
      "source": [
        "main"
      ]
    },
    {
      "cell_type": "code",
      "metadata": {
        "id": "xnvPz5Tuuh9n",
        "outputId": "6e4c873f-901e-41bf-8ca5-4cb82a3e7dd3",
        "colab": {
          "base_uri": "https://localhost:8080/",
          "height": 527
        }
      },
      "source": [
        "min = np.array([-1, -1])    # x1 x2 min\n",
        "max = np.array([2, 1])      # x1 x2 max\n",
        "\n",
        "pop_size = 300      # jumlah populasi\n",
        "max_gen = 300       # max gen\n",
        "chrom_size = 10     #jumlah kromosom\n",
        "Pc = 0.9\n",
        "Pm = 0.1\n",
        "\n",
        "#menampung history fitness terbaik\n",
        "history = []\n",
        "\n",
        "#init populasi\n",
        "populasi = init_pop(pop_size, chrom_size)\n",
        "\n",
        "for g in range(max_gen):\n",
        "    #decode chromosom\n",
        "    decoded_populasi = decode_chrom(populasi, min, max)\n",
        "    #fitness evaluation\n",
        "    fitness = fitness_eva(decoded_populasi, a=3)\n",
        "\n",
        "    #survivor selection\n",
        "    new_populasi = elitisme(populasi, fitness)\n",
        "    #menyimpan fitness ke history\n",
        "    history.append(np.max(fitness))\n",
        "\n",
        "    #check generasi dan fitness\n",
        "    if(g % 10 == 0):\n",
        "        print('generasi: {0}, fitness: {1}'.format(g, np.max(fitness)))\n",
        "\n",
        "    while new_populasi.shape[0] < pop_size:\n",
        "        #parent selection dengan Roulette wheel\n",
        "        parent_id = roulette_wheel(fitness)\n",
        "        parent_chromosom = populasi[parent_id].copy()\n",
        "\n",
        "        #crossover\n",
        "        child_chromosom = crossover(parent_chromosom, Pc)\n",
        "        #mutation\n",
        "        mutated_chromosom = mutation(child_chromosom, Pm)\n",
        "\n",
        "        new_populasi = np.vstack([new_populasi, mutated_chromosom])\n",
        "\n",
        "    populasi = new_populasi         #assign populasi baru"
      ],
      "execution_count": null,
      "outputs": [
        {
          "output_type": "stream",
          "text": [
            "generasi: 0, fitness: 0.5883980110803454\n",
            "generasi: 10, fitness: 0.5988490244489192\n",
            "generasi: 20, fitness: 0.6025098667757497\n",
            "generasi: 30, fitness: 0.6037095830776196\n",
            "generasi: 40, fitness: 0.6041531784954967\n",
            "generasi: 50, fitness: 0.6041802133378401\n",
            "generasi: 60, fitness: 0.6043558395191633\n",
            "generasi: 70, fitness: 0.6043658076362889\n",
            "generasi: 80, fitness: 0.60588510864312\n",
            "generasi: 90, fitness: 0.6059198297353923\n",
            "generasi: 100, fitness: 0.6059198297353923\n",
            "generasi: 110, fitness: 0.6060057254111\n",
            "generasi: 120, fitness: 0.6060495290397404\n",
            "generasi: 130, fitness: 0.6060495290397404\n",
            "generasi: 140, fitness: 0.6060495290397404\n",
            "generasi: 150, fitness: 0.6060751604178193\n",
            "generasi: 160, fitness: 0.6061035902767166\n",
            "generasi: 170, fitness: 0.6061068955404831\n",
            "generasi: 180, fitness: 0.6061085481087088\n",
            "generasi: 190, fitness: 0.6061085481087088\n",
            "generasi: 200, fitness: 0.6061234193127512\n",
            "generasi: 210, fitness: 0.6061250714565087\n",
            "generasi: 220, fitness: 0.6061250714565087\n",
            "generasi: 230, fitness: 0.6061250714565087\n",
            "generasi: 240, fitness: 0.6061250714565087\n",
            "generasi: 250, fitness: 0.6061250714565087\n",
            "generasi: 260, fitness: 0.6061250714565087\n",
            "generasi: 270, fitness: 0.6061250714565087\n",
            "generasi: 280, fitness: 0.6061250714565087\n",
            "generasi: 290, fitness: 0.6061250714565087\n"
          ],
          "name": "stdout"
        }
      ]
    },
    {
      "cell_type": "code",
      "metadata": {
        "id": "zkawCw6Sxpyv",
        "outputId": "29e8a9c8-e74d-4f7d-ff4c-931d681c6211",
        "colab": {
          "base_uri": "https://localhost:8080/",
          "height": 85
        }
      },
      "source": [
        "decoded_populasi = decode_chrom(populasi, min, max)\n",
        "fitness = fitness_eva(decoded_populasi, a=3)\n",
        "best_id = np.argmax(fitness)\n",
        "\n",
        "#print solusi terbaik\n",
        "print('''x1= {0}\n",
        "x2= {1}\n",
        "fx= {2}\n",
        "fitness = {3}'''. format(decoded_populasi[best_id][0], decoded_populasi[best_id][1],\n",
        "                   fx(decoded_populasi[best_id]), np.max(fitness))\n",
        ")"
      ],
      "execution_count": null,
      "outputs": [
        {
          "output_type": "stream",
          "text": [
            "x1= 2.0\n",
            "x2= 1.0\n",
            "fx= -1.3501754883740147\n",
            "fitness = 0.6061250714565087\n"
          ],
          "name": "stdout"
        }
      ]
    }
  ]
}